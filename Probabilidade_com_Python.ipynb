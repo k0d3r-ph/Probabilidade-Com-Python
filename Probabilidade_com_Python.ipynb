{
  "nbformat": 4,
  "nbformat_minor": 0,
  "metadata": {
    "colab": {
      "provenance": [],
      "toc_visible": true
    },
    "kernelspec": {
      "name": "python3",
      "display_name": "Python 3"
    },
    "language_info": {
      "name": "python"
    }
  },
  "cells": [
    {
      "cell_type": "markdown",
      "source": [
        "#O que é a probabilidade em si ?\n",
        "\n",
        "Probabilidade nada mais é do que a **teoria matemática utilizada para estudar fenômenos de caráter aleatório.**\n",
        "\n",
        "**Exemplo:**\n",
        "> Qual a probabilidade de uma moeda cair cara ou coroa ?\n",
        "\n",
        "Se utilizarmos uma moeda honesta (sem nenhuma alteração), podemos concluir que a probabilidade é de 50% para os dois lados.\n",
        "\n",
        "\n",
        "\n"
      ],
      "metadata": {
        "id": "Wct5pt7KawPy"
      }
    },
    {
      "cell_type": "markdown",
      "source": [
        "## Mas como podemos utilizar Python para trabalhar com essas estatísticas ?"
      ],
      "metadata": {
        "id": "M0rUCWB_cHPl"
      }
    },
    {
      "cell_type": "markdown",
      "source": [
        "Existe uma biblioteca justamente feita para matemáticos, engenheiros e cientistas: **o Scipy**\n",
        "\n",
        "Ele apresenta funções baseadas em Numpy que trabalham diretamente com algumas distribuições de probabilidade (como Bernoulii, Poisson e Gaussiana), que nada mais são que funções que descrevem o comportamento aleatório de um fenômeno dependente do acaso.\n",
        "\n",
        "Essas funções podem modular incertezas e descrever fenômenos físicos, biológicos, econômicos, entre outros.\n"
      ],
      "metadata": {
        "id": "j6_B02HbcRsn"
      }
    },
    {
      "cell_type": "code",
      "source": [
        "import scipy"
      ],
      "metadata": {
        "id": "zPoILfJ9kIs3"
      },
      "execution_count": 2,
      "outputs": []
    },
    {
      "cell_type": "markdown",
      "source": [
        "## **Utilizando a Distribuição de Bernoulli:**\n",
        "\n",
        "Bernoulli afirmava que apenas existiam apenas duas possibilidades para um evento, apresentando ou não uma determinada característica.\n",
        "\n",
        "Nos parâmetros da função, utilizaremos:\n",
        "\n",
        "*   p = A probabilidade em si\n",
        "*   size = Tamanho do espaço amostral\n",
        "\n",
        "> Vamos utilizar o exemplo da moeda, onde o p será 0.5 (50% de chance para cado lado da moeda) e a moeda será jogada 10.000 vezes, ou seja, size = 10000:\n",
        "\n"
      ],
      "metadata": {
        "id": "O408f2WYqbCq"
      }
    },
    {
      "cell_type": "code",
      "source": [
        "from scipy.stats import bernoulli\n",
        "\n",
        "#.rvs() = Função que gera variáveis randômicas\n",
        "resultado_moeda = bernoulli.rvs(p=0.5, size=10000)\n",
        "\n",
        "# Importaremos também o Pandas para melhor visualização dos dados:\n",
        "import pandas as pd\n",
        "\n",
        "pd.Series(resultado_moeda).value_counts(normalize=True)"
      ],
      "metadata": {
        "colab": {
          "base_uri": "https://localhost:8080/"
        },
        "id": "gowCsjnVqaas",
        "outputId": "d4f3596b-bfce-495b-e4e1-8bf26ae368a3"
      },
      "execution_count": 3,
      "outputs": [
        {
          "output_type": "execute_result",
          "data": {
            "text/plain": [
              "0    0.5123\n",
              "1    0.4877\n",
              "Name: proportion, dtype: float64"
            ]
          },
          "metadata": {},
          "execution_count": 3
        }
      ]
    },
    {
      "cell_type": "markdown",
      "source": [
        "> Por ser valores aleatórios, cada vez que você rodar o código, serão possibilidades diferentes para o cara e coroa."
      ],
      "metadata": {
        "id": "Rc9nn8hAnBZU"
      }
    },
    {
      "cell_type": "markdown",
      "source": [
        "## **Utilizando Distribuição de Poisson:**\n",
        "\n",
        "Esta é utilizada quando se deseja contar a quantidade de eventos que ocorrem num intervalo de tempo ou espaço.\n",
        "\n",
        "Nesta função, os parâmetros mais utilizados são:\n",
        "\n",
        "\n",
        "\n",
        "*   k = Quantidade de eventos que deseja procurar\n",
        "*   mu = Média de eventos no intervalo de tempo\n",
        "\n",
        "> **Exemplo:** Qual a probabilidade de um computador falhar 25 vezes em um dia, sabendo que a média de falhas que ele pode ter é 15 ?"
      ],
      "metadata": {
        "id": "N0htYmEzrxVZ"
      }
    },
    {
      "cell_type": "code",
      "source": [
        "from scipy.stats import poisson\n",
        "\n",
        "# .pmf() = É uma função vinda de Poisson que associa um valor de probabilidade a cada possível ocorrência.\n",
        "probabilidade = poisson.pmf(k = 25, mu = 15)\n",
        "\n",
        "#Formatamos a string para um número com apenas 2 casas decimais após a vírgula, facilitando a visualização.\n",
        "f\"{probabilidade:.2%}\""
      ],
      "metadata": {
        "colab": {
          "base_uri": "https://localhost:8080/",
          "height": 35
        },
        "id": "bOzJQ8fpxEQQ",
        "outputId": "9540b99f-b9f6-4cab-9ae2-a7c994f66cd0"
      },
      "execution_count": 6,
      "outputs": [
        {
          "output_type": "execute_result",
          "data": {
            "text/plain": [
              "'0.50%'"
            ],
            "application/vnd.google.colaboratory.intrinsic+json": {
              "type": "string"
            }
          },
          "metadata": {},
          "execution_count": 6
        }
      ]
    },
    {
      "cell_type": "markdown",
      "source": [
        "## **Utilizando Distribuição Gaussiana:**\n",
        "\n",
        "Os exemplos anteriores utilizaram variáveis discretas, ou seja, apenas números naturais (0, 1, 2 ,3). Já a Gaussiana (mais conhecida como Distribuição Normal), utiliza de variáveis contínuas, sendo então variáveis que podem assumir **QUALQUER** dentro de um intervalo.\n",
        "\n",
        "Ela é comumente usada para descrever diversos processos e fenômenos comuns, como: altura de uma população, pressão sanguínea de um grupo de pessoas, etc.\n",
        "\n",
        "Dentro da função, os parâmetros em ordem são:\n",
        "\n",
        "\n",
        "\n",
        "* O intervalo de números que se deseja procurar (Exemplo: se fosse entre 0 e 1, ficaria: (0, 1))\n",
        "* O tamanho do intervalo, ou seja, do espaço amostral  \n",
        "\n"
      ],
      "metadata": {
        "id": "Yib10JzCy67j"
      }
    },
    {
      "cell_type": "code",
      "source": [
        "from scipy.stats import norm\n",
        "\n",
        "dados = norm.rvs(0, 1, 100000)\n",
        "\n",
        "dados"
      ],
      "metadata": {
        "colab": {
          "base_uri": "https://localhost:8080/"
        },
        "id": "BUw6Oeys6fIS",
        "outputId": "fe355493-31f8-4607-c668-1c0e2b91c202"
      },
      "execution_count": 12,
      "outputs": [
        {
          "output_type": "execute_result",
          "data": {
            "text/plain": [
              "array([-0.32258949,  0.68329502,  0.60394317, ..., -1.33314729,\n",
              "        0.10159733,  0.2511005 ])"
            ]
          },
          "metadata": {},
          "execution_count": 12
        }
      ]
    },
    {
      "cell_type": "markdown",
      "source": [
        "> Veja que ele retornou um array de números com diversos possíveis valores entre o intervalo de 0 e 1."
      ],
      "metadata": {
        "id": "s_f1NyV269zQ"
      }
    },
    {
      "cell_type": "code",
      "source": [
        "# Vamos também importar o Seaborn para analisarmos graficamente este array.\n",
        "\n",
        "import seaborn as sns\n",
        "\n",
        "sns.kdeplot(dados)"
      ],
      "metadata": {
        "colab": {
          "base_uri": "https://localhost:8080/",
          "height": 447
        },
        "id": "AWlQCSIt68cN",
        "outputId": "937d16ab-0b8e-4017-eee3-2f3bbe11c1e7"
      },
      "execution_count": 13,
      "outputs": [
        {
          "output_type": "execute_result",
          "data": {
            "text/plain": [
              "<Axes: ylabel='Density'>"
            ]
          },
          "metadata": {},
          "execution_count": 13
        },
        {
          "output_type": "display_data",
          "data": {
            "text/plain": [
              "<Figure size 640x480 with 1 Axes>"
            ],
            "image/png": "[encoded data removed]"
          },
          "metadata": {}
        }
      ]
    },
    {
      "cell_type": "markdown",
      "source": [
        "> Esta distribuição é conhecida pelo seu formato de **sino**, pela curva simétrica em torno do seu ponto médio mostrado no gráfico."
      ],
      "metadata": {
        "id": "m8xcWCBf8M3m"
      }
    },
    {
      "cell_type": "markdown",
      "source": [
        "#**Síntese:**\n"
      ],
      "metadata": {
        "id": "h7C3GG538qFD"
      }
    },
    {
      "cell_type": "markdown",
      "source": [
        "\n",
        "O Python disponibiliza bibliotecas não só para a modelagem de dados (como o Scipy), mas também para analisarmos e transformamos os dados do jeito que quisermos (como o Pandas e o Seaborn).\n",
        "\n",
        "Espero que tenha conseguido aprender um pouco mais sobre as possibilidades que a Linguagem Python disponibiliza para os seus usuários! 🙂"
      ],
      "metadata": {
        "id": "4X1SqHoW9c-R"
      }
    }
  ]
}